{
  "cells": [
    {
      "cell_type": "code",
      "execution_count": 3,
      "id": "checked-privacy",
      "metadata": {
        "colab": {
          "base_uri": "https://localhost:8080/",
          "height": 300
        },
        "id": "checked-privacy",
        "outputId": "f83eb01e-2111-43b3-ec62-27df7dd50cf9"
      },
      "outputs": [
        {
          "output_type": "execute_result",
          "data": {
            "text/html": [
              "<div>\n",
              "<style scoped>\n",
              "    .dataframe tbody tr th:only-of-type {\n",
              "        vertical-align: middle;\n",
              "    }\n",
              "\n",
              "    .dataframe tbody tr th {\n",
              "        vertical-align: top;\n",
              "    }\n",
              "\n",
              "    .dataframe thead th {\n",
              "        text-align: right;\n",
              "    }\n",
              "</style>\n",
              "<table border=\"1\" class=\"dataframe\">\n",
              "  <thead>\n",
              "    <tr style=\"text-align: right;\">\n",
              "      <th></th>\n",
              "      <th>Temperature (degC)</th>\n",
              "      <th>Heater (%)</th>\n",
              "      <th>error</th>\n",
              "    </tr>\n",
              "  </thead>\n",
              "  <tbody>\n",
              "    <tr>\n",
              "      <th>count</th>\n",
              "      <td>900.000000</td>\n",
              "      <td>900.000000</td>\n",
              "      <td>900.000000</td>\n",
              "    </tr>\n",
              "    <tr>\n",
              "      <th>mean</th>\n",
              "      <td>42.681112</td>\n",
              "      <td>15.084637</td>\n",
              "      <td>-3.019121</td>\n",
              "    </tr>\n",
              "    <tr>\n",
              "      <th>std</th>\n",
              "      <td>6.302056</td>\n",
              "      <td>22.948615</td>\n",
              "      <td>5.746636</td>\n",
              "    </tr>\n",
              "    <tr>\n",
              "      <th>min</th>\n",
              "      <td>30.791789</td>\n",
              "      <td>0.000000</td>\n",
              "      <td>-21.808407</td>\n",
              "    </tr>\n",
              "    <tr>\n",
              "      <th>25%</th>\n",
              "      <td>37.145650</td>\n",
              "      <td>0.000000</td>\n",
              "      <td>-4.335288</td>\n",
              "    </tr>\n",
              "    <tr>\n",
              "      <th>50%</th>\n",
              "      <td>41.544477</td>\n",
              "      <td>5.010056</td>\n",
              "      <td>-1.319648</td>\n",
              "    </tr>\n",
              "    <tr>\n",
              "      <th>75%</th>\n",
              "      <td>49.853372</td>\n",
              "      <td>22.975460</td>\n",
              "      <td>-0.078201</td>\n",
              "    </tr>\n",
              "    <tr>\n",
              "      <th>max</th>\n",
              "      <td>53.763441</td>\n",
              "      <td>100.000000</td>\n",
              "      <td>13.831867</td>\n",
              "    </tr>\n",
              "  </tbody>\n",
              "</table>\n",
              "</div>"
            ],
            "text/plain": [
              "       Temperature (degC)   Heater (%)       error\n",
              "count          900.000000   900.000000  900.000000\n",
              "mean            42.681112    15.084637   -3.019121\n",
              "std              6.302056    22.948615    5.746636\n",
              "min             30.791789     0.000000  -21.808407\n",
              "25%             37.145650     0.000000   -4.335288\n",
              "50%             41.544477     5.010056   -1.319648\n",
              "75%             49.853372    22.975460   -0.078201\n",
              "max             53.763441   100.000000   13.831867"
            ]
          },
          "metadata": {},
          "execution_count": 3
        }
      ],
      "source": [
        "import pandas as pd\n",
        "ds = pd.read_csv('data_pid.csv')\n",
        "ds.describe()"
      ]
    },
    {
      "cell_type": "code",
      "execution_count": 4,
      "id": "bulgarian-authorization",
      "metadata": {
        "id": "bulgarian-authorization"
      },
      "outputs": [],
      "source": [
        "ds['error_2'] = ds[' error']**2"
      ]
    },
    {
      "cell_type": "code",
      "execution_count": 5,
      "id": "certain-chicago",
      "metadata": {
        "colab": {
          "base_uri": "https://localhost:8080/",
          "height": 206
        },
        "id": "certain-chicago",
        "outputId": "5de493d0-61c7-4f1e-95b5-62b861b5f9b6"
      },
      "outputs": [
        {
          "output_type": "execute_result",
          "data": {
            "text/html": [
              "<div>\n",
              "<style scoped>\n",
              "    .dataframe tbody tr th:only-of-type {\n",
              "        vertical-align: middle;\n",
              "    }\n",
              "\n",
              "    .dataframe tbody tr th {\n",
              "        vertical-align: top;\n",
              "    }\n",
              "\n",
              "    .dataframe thead th {\n",
              "        text-align: right;\n",
              "    }\n",
              "</style>\n",
              "<table border=\"1\" class=\"dataframe\">\n",
              "  <thead>\n",
              "    <tr style=\"text-align: right;\">\n",
              "      <th></th>\n",
              "      <th>Temperature (degC)</th>\n",
              "      <th>Heater (%)</th>\n",
              "      <th>error</th>\n",
              "      <th>error_2</th>\n",
              "    </tr>\n",
              "  </thead>\n",
              "  <tbody>\n",
              "    <tr>\n",
              "      <th>0</th>\n",
              "      <td>30.791789</td>\n",
              "      <td>0.000000</td>\n",
              "      <td>0.000000</td>\n",
              "      <td>0.000000</td>\n",
              "    </tr>\n",
              "    <tr>\n",
              "      <th>1</th>\n",
              "      <td>30.791789</td>\n",
              "      <td>42.924617</td>\n",
              "      <td>4.208211</td>\n",
              "      <td>17.709041</td>\n",
              "    </tr>\n",
              "    <tr>\n",
              "      <th>2</th>\n",
              "      <td>30.791789</td>\n",
              "      <td>43.758730</td>\n",
              "      <td>4.208211</td>\n",
              "      <td>17.709041</td>\n",
              "    </tr>\n",
              "    <tr>\n",
              "      <th>3</th>\n",
              "      <td>31.280547</td>\n",
              "      <td>34.732770</td>\n",
              "      <td>3.719453</td>\n",
              "      <td>13.834328</td>\n",
              "    </tr>\n",
              "    <tr>\n",
              "      <th>4</th>\n",
              "      <td>30.791789</td>\n",
              "      <td>50.272817</td>\n",
              "      <td>4.208211</td>\n",
              "      <td>17.709041</td>\n",
              "    </tr>\n",
              "  </tbody>\n",
              "</table>\n",
              "</div>"
            ],
            "text/plain": [
              "   Temperature (degC)   Heater (%)     error    error_2\n",
              "0           30.791789     0.000000  0.000000   0.000000\n",
              "1           30.791789    42.924617  4.208211  17.709041\n",
              "2           30.791789    43.758730  4.208211  17.709041\n",
              "3           31.280547    34.732770  3.719453  13.834328\n",
              "4           30.791789    50.272817  4.208211  17.709041"
            ]
          },
          "metadata": {},
          "execution_count": 5
        }
      ],
      "source": [
        "ds.head()"
      ]
    },
    {
      "cell_type": "code",
      "execution_count": 6,
      "id": "moral-opera",
      "metadata": {
        "colab": {
          "base_uri": "https://localhost:8080/"
        },
        "id": "moral-opera",
        "outputId": "59613474-69a6-4bd9-9da3-341f59a11422"
      },
      "outputs": [
        {
          "output_type": "execute_result",
          "data": {
            "text/plain": [
              "13576.173304742239"
            ]
          },
          "metadata": {},
          "execution_count": 6
        }
      ],
      "source": [
        "total_u_pid = ds[' Heater (%)'].sum()\n",
        "total_u_pid"
      ]
    },
    {
      "cell_type": "code",
      "execution_count": 7,
      "id": "needed-ability",
      "metadata": {
        "id": "needed-ability"
      },
      "outputs": [],
      "source": [
        "rmse_pid = (ds['error_2'].sum()) / ((ds.size)/4)"
      ]
    },
    {
      "cell_type": "code",
      "execution_count": 8,
      "id": "curious-flour",
      "metadata": {
        "colab": {
          "base_uri": "https://localhost:8080/"
        },
        "id": "curious-flour",
        "outputId": "bfe7ba9f-3593-4ba1-afe5-b0b30137bfa0"
      },
      "outputs": [
        {
          "output_type": "execute_result",
          "data": {
            "text/plain": [
              "42.1022249901022"
            ]
          },
          "metadata": {},
          "execution_count": 8
        }
      ],
      "source": [
        "rmse_pid"
      ]
    },
    {
      "cell_type": "code",
      "execution_count": 9,
      "id": "armed-square",
      "metadata": {
        "colab": {
          "base_uri": "https://localhost:8080/",
          "height": 300
        },
        "id": "armed-square",
        "outputId": "5befac92-dfa1-4e3d-fa3e-be0b07f4c6a1"
      },
      "outputs": [
        {
          "output_type": "execute_result",
          "data": {
            "text/html": [
              "<div>\n",
              "<style scoped>\n",
              "    .dataframe tbody tr th:only-of-type {\n",
              "        vertical-align: middle;\n",
              "    }\n",
              "\n",
              "    .dataframe tbody tr th {\n",
              "        vertical-align: top;\n",
              "    }\n",
              "\n",
              "    .dataframe thead th {\n",
              "        text-align: right;\n",
              "    }\n",
              "</style>\n",
              "<table border=\"1\" class=\"dataframe\">\n",
              "  <thead>\n",
              "    <tr style=\"text-align: right;\">\n",
              "      <th></th>\n",
              "      <th>Temperature (degC)</th>\n",
              "      <th>Heater (%)</th>\n",
              "      <th>error</th>\n",
              "    </tr>\n",
              "  </thead>\n",
              "  <tbody>\n",
              "    <tr>\n",
              "      <th>count</th>\n",
              "      <td>900.000000</td>\n",
              "      <td>900.000000</td>\n",
              "      <td>900.000000</td>\n",
              "    </tr>\n",
              "    <tr>\n",
              "      <th>mean</th>\n",
              "      <td>43.034648</td>\n",
              "      <td>14.094379</td>\n",
              "      <td>-3.371571</td>\n",
              "    </tr>\n",
              "    <tr>\n",
              "      <th>std</th>\n",
              "      <td>5.924422</td>\n",
              "      <td>24.252915</td>\n",
              "      <td>6.313546</td>\n",
              "    </tr>\n",
              "    <tr>\n",
              "      <th>min</th>\n",
              "      <td>31.280547</td>\n",
              "      <td>0.000000</td>\n",
              "      <td>-21.808407</td>\n",
              "    </tr>\n",
              "    <tr>\n",
              "      <th>25%</th>\n",
              "      <td>37.634409</td>\n",
              "      <td>0.000000</td>\n",
              "      <td>-5.679374</td>\n",
              "    </tr>\n",
              "    <tr>\n",
              "      <th>50%</th>\n",
              "      <td>42.521994</td>\n",
              "      <td>0.000000</td>\n",
              "      <td>-2.297165</td>\n",
              "    </tr>\n",
              "    <tr>\n",
              "      <th>75%</th>\n",
              "      <td>48.875855</td>\n",
              "      <td>20.660079</td>\n",
              "      <td>-0.830890</td>\n",
              "    </tr>\n",
              "    <tr>\n",
              "      <th>max</th>\n",
              "      <td>54.740958</td>\n",
              "      <td>100.000000</td>\n",
              "      <td>12.854350</td>\n",
              "    </tr>\n",
              "  </tbody>\n",
              "</table>\n",
              "</div>"
            ],
            "text/plain": [
              "       Temperature (degC)   Heater (%)       error\n",
              "count          900.000000   900.000000  900.000000\n",
              "mean            43.034648    14.094379   -3.371571\n",
              "std              5.924422    24.252915    6.313546\n",
              "min             31.280547     0.000000  -21.808407\n",
              "25%             37.634409     0.000000   -5.679374\n",
              "50%             42.521994     0.000000   -2.297165\n",
              "75%             48.875855    20.660079   -0.830890\n",
              "max             54.740958   100.000000   12.854350"
            ]
          },
          "metadata": {},
          "execution_count": 9
        }
      ],
      "source": [
        "ds_b = pd.read_csv('data_belbic.csv')\n",
        "ds_b.describe()"
      ]
    },
    {
      "cell_type": "code",
      "execution_count": 10,
      "id": "painted-spell",
      "metadata": {
        "id": "painted-spell"
      },
      "outputs": [],
      "source": [
        "ds_b['error_2'] = ds_b[' error']**2"
      ]
    },
    {
      "cell_type": "code",
      "execution_count": 11,
      "id": "boring-collectible",
      "metadata": {
        "colab": {
          "base_uri": "https://localhost:8080/"
        },
        "id": "boring-collectible",
        "outputId": "9d050060-9037-4089-ca22-0598bfd80a8d"
      },
      "outputs": [
        {
          "output_type": "execute_result",
          "data": {
            "text/plain": [
              "Index(['Temperature (degC)', ' Heater (%)', ' error', 'error_2'], dtype='object')"
            ]
          },
          "metadata": {},
          "execution_count": 11
        }
      ],
      "source": [
        "ds_b.columns"
      ]
    },
    {
      "cell_type": "code",
      "execution_count": 12,
      "id": "moving-british",
      "metadata": {
        "id": "moving-british"
      },
      "outputs": [],
      "source": [
        "rmse_belbic = (ds_b['error_2'].sum()) / ((ds.size)/4)"
      ]
    },
    {
      "cell_type": "code",
      "execution_count": 13,
      "id": "amazing-topic",
      "metadata": {
        "colab": {
          "base_uri": "https://localhost:8080/"
        },
        "id": "amazing-topic",
        "outputId": "9cc699cd-719e-412d-ad59-ee78e1a5e891"
      },
      "outputs": [
        {
          "output_type": "execute_result",
          "data": {
            "text/plain": [
              "12684.941114501784"
            ]
          },
          "metadata": {},
          "execution_count": 13
        }
      ],
      "source": [
        "total_u_belbic = ds_b[' Heater (%)'].sum()\n",
        "total_u_belbic"
      ]
    },
    {
      "cell_type": "code",
      "execution_count": 14,
      "id": "beautiful-stevens",
      "metadata": {
        "colab": {
          "base_uri": "https://localhost:8080/"
        },
        "id": "beautiful-stevens",
        "outputId": "4c147e8a-9dbe-493c-9a03-65bae6e137e6"
      },
      "outputs": [
        {
          "output_type": "execute_result",
          "data": {
            "text/plain": [
              "51.18405645392213"
            ]
          },
          "metadata": {},
          "execution_count": 14
        }
      ],
      "source": [
        "rmse_belbic"
      ]
    }
  ],
  "metadata": {
    "kernelspec": {
      "display_name": "Python 3",
      "language": "python",
      "name": "python3"
    },
    "language_info": {
      "codemirror_mode": {
        "name": "ipython",
        "version": 3
      },
      "file_extension": ".py",
      "mimetype": "text/x-python",
      "name": "python",
      "nbconvert_exporter": "python",
      "pygments_lexer": "ipython3",
      "version": "3.8.5"
    },
    "colab": {
      "name": "stats_belbic_pid.ipynb",
      "provenance": []
    }
  },
  "nbformat": 4,
  "nbformat_minor": 5
}